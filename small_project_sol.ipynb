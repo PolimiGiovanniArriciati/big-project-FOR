{
  "cells": [
    {
      "cell_type": "markdown",
      "metadata": {
        "id": "4MGTWLXgf2lu"
      },
      "source": [
        "## Biogas plant\n",
        "\n",
        "You want to plan the two-year supply of raw materials for a biogas power plant. Such a plant produces energy by burning biogas, which is obtained from the bacterial fermentation of organic wastes. \n",
        "Specifically, your plant is powered by corn chopping, a residual of agro-industrial operations that you can purchase from 5 local farms. \n",
        "The table below shows the quarterly capacity of each farm for the next two years. Quantities are measured in tons.\n",
        "\n",
        "Farm|T1|T2|T3|T4|T5|T6|T7|T8\n",
        ":-|:-:|:-:|:-:|:-:|:-:|:-:|:-:|:-:\n",
        "1|700|1500|700|0|0|700|1500|0\n",
        "2|1350|0|450|0|1350|0|450|0\n",
        "3|0|1500|1500|0|0|1500|1500|0\n",
        "4|820|1560|820|0|820|1560|820|0\n",
        "5|0|680|1080|0|0|680|1080|0\n",
        "\n",
        "Due to crop rotations and corn harvesting periods, farms are unable to supply material in some quarters. Moreover the types of corn chopping provided are different, each coming with its own unitary purchase price, unitary storage cost and percentage of dry matter. The table below shows a summary of these information.\n",
        "\n",
        "Farm|Purchase price|Storage cost|Dry matter\n",
        ":-|:-:|:-:|:-:\n",
        "1|0.20|0.002|15\n",
        "2|0.18|0.012|28\n",
        "3|0.19|0.007|35\n",
        "4|0.21|0.011|37\n",
        "5|0.23|0.015|42\n",
        "\n",
        "Your biogas plant must operate by burning a mixture of corn choppings with a dry matter percentage between 20% and 40%. Under these conditions, the yield is 421.6 kWh of energy per ton of burned material. The energy produced by the plant is sold on the market at a price of 0.28 $/kWh. \n",
        "\n",
        "Due to state regulations, all biogas plants can produce a maximum of 1950 MWh of energy per quarter. You are allowed to store corn chopping in a silo, whose total capacity is of 500 tons. \n",
        "\n",
        "Plan the supply and inventory of your biogas plant with the goal of maximizing your profits (i.e., revenues minus costs)."
      ]
    },
    {
      "cell_type": "code",
      "execution_count": null,
      "metadata": {
        "colab": {
          "base_uri": "https://localhost:8080/"
        },
        "id": "AXjbD65XQCeH",
        "outputId": "0e2ee0fc-da7a-4588-9cd4-aae7676cae51"
      },
      "outputs": [
        {
          "name": "stdout",
          "output_type": "stream",
          "text": [
            "Looking in indexes: https://pypi.org/simple, https://us-python.pkg.dev/colab-wheels/public/simple/\n",
            "Requirement already satisfied: cffi==1.15.0 in /usr/local/lib/python3.8/dist-packages (1.15.0)\n"
          ]
        }
      ],
      "source": [
        "# When using Colab, make sure you run this instruction beforehand\n",
        "!pip install --upgrade cffi==1.15.0\n",
        "import importlib\n",
        "import cffi\n",
        "importlib.reload(cffi)\n",
        "!pip install mip"
      ]
    },
    {
      "cell_type": "code",
      "execution_count": null,
      "metadata": {
        "id": "LUO6yoT4ERa3"
      },
      "outputs": [],
      "source": [
        "import mip\n",
        "\n",
        "farms_production = [\n",
        "    [ 700, 1500,  700, 0,    0,  700, 1500, 0],\n",
        "    [1350,    0,  450, 0, 1350,    0,  450, 0],\n",
        "    [   0, 1500, 1500, 0,    0, 1500, 1500, 0],\n",
        "    [ 820, 1560,  820, 0,  820, 1560,  820, 0],\n",
        "    [   0,  680, 1080, 0,    0,  680, 1080, 0]\n",
        "]\n",
        "\n",
        "farms_corn_chopping = [\n",
        "    [0.20, 0.002, 15],\n",
        "    [0.18, 0.012, 28],\n",
        "    [0.19, 0.007, 35],\n",
        "    [0.21, 0.011, 37],\n",
        "    [0.23, 0.015, 42]\n",
        "]\n",
        "\n",
        "F = range(5)\n",
        "T = range(8)\n",
        "max_energy_produced = 1950000     # kWh\n",
        "energy_produced = 421.6             # kWh per ton of burned material\n",
        "min_dry_matter = 20\n",
        "max_dry_matter = 40\n",
        "silos_capacity = 500                # tons\n",
        "energy_price = 0.28                 # $/kWh"
      ]
    },
    {
      "cell_type": "code",
      "execution_count": null,
      "metadata": {
        "id": "Zu7Q55qKLA0N"
      },
      "outputs": [],
      "source": [
        "# MODEL\n",
        "m = mip.Model()\n",
        "\n",
        "# VARIABLES\n",
        "# corn chopping bought for each farm for each quarter\n",
        "x = [[m.add_var(ub=farms_production[i][j]) for j in T] for i in F]\n",
        "\n",
        "# quantity of burnt corn chopping\n",
        "b = [[m.add_var() for j in T] for i in F]\n",
        "\n",
        "# quantity of stored corn chopping for each farm for each trimester\n",
        "stored = [[m.add_var() for j in range(9)] for i in F]"
      ]
    },
    {
      "cell_type": "code",
      "execution_count": null,
      "metadata": {
        "id": "oLXKF5lBUT3c"
      },
      "outputs": [],
      "source": [
        "# CONSTRAINTS\n",
        "# max energy produced\n",
        "for j in T:\n",
        "  m.add_constr(mip.xsum(b[i][j] * energy_produced for i in F) <= max_energy_produced)\n",
        "\n",
        "# silos is empty before the first quarter\n",
        "for i in F:\n",
        "  m.add_constr(stored[i][0] == 0)\n",
        "\n",
        "# silos capacity constraint\n",
        "for j in T:\n",
        "  m.add_constr(mip.xsum(stored[i][j + 1] for i in F) <= silos_capacity)\n",
        "\n",
        "# binding constraints\n",
        "for i in F:\n",
        "  for j in T:\n",
        "    m.add_constr(b[i][j] == x[i][j] + stored[i][j] - stored[i][j + 1])\n",
        "\n",
        "# dry matter constraint\n",
        "for j in T:\n",
        "  m.add_constr(mip.xsum(b[i][j] for i in F) * min_dry_matter <= mip.xsum(b[i][j] * farms_corn_chopping[i][2] for i in F))\n",
        "  m.add_constr(mip.xsum(b[i][j] for i in F) * max_dry_matter >= mip.xsum(b[i][j] * farms_corn_chopping[i][2] for i in F))"
      ]
    },
    {
      "cell_type": "code",
      "execution_count": null,
      "metadata": {
        "id": "QSU_HMtvgOC4"
      },
      "outputs": [],
      "source": [
        "# OBJECTIVE FUNCTION\n",
        "m.objective = mip.maximize(mip.xsum(b[i][j] * energy_produced * energy_price for i in F for j in T)\\\n",
        "                   - mip.xsum(x[i][j] * farms_corn_chopping[i][0] for i in F for j in T) \\\n",
        "                   - mip.xsum(stored[i][j] * farms_corn_chopping[i][1] for i in F for j in range(9)))\n",
        "\n",
        "m.optimize()"
      ]
    },
    {
      "cell_type": "code",
      "execution_count": null,
      "metadata": {
        "id": "0XnUfQJwMsRQ"
      },
      "outputs": [],
      "source": [
        "# DATA VISUALIZATION\n",
        "import pandas as pd\n",
        "import matplotlib.pyplot as plt\n",
        "\n",
        "# Bought quantities of corn chopping\n",
        "df_bought = pd.DataFrame([[x[i][j].x for j in T] for i in F], columns = [\"T1\", \"T2\", \"T3\", \"T4\", \"T5\", \"T6\", \"T7\", \"T8\"])\n",
        "df_bought.rename(index = {0:\"Farm 1\", 1:\"Farm 2\", 2:\"Farm 3\", 3:\"Farm 4\", 4:\"Farm 5\"}, inplace = True)\n",
        "df_bought_rounded = df_bought.round(decimals=2)\n",
        "\n",
        "# Burnt quantities of corn chopping\n",
        "df_burnt = pd.DataFrame([[b[i][j].x for j in T] for i in F], columns = [\"T1\", \"T2\", \"T3\", \"T4\", \"T5\", \"T6\", \"T7\", \"T8\"])\n",
        "df_burnt.loc[len(df_burnt)] = [sum(b[i][j].x for i in F) * energy_produced for j in T]                                          # add the produced energy\n",
        "df_burnt.loc[len(df_burnt)] = [(sum(b[i][j].x * farms_corn_chopping[i][2] for i in F) / sum(b[i][j].x for i in F)) for j in T]  # add the percentage of dry matter\n",
        "df_burnt.rename(index = {0:\"Farm 1\", 1:\"Farm 2\", 2:\"Farm 3\", 3:\"Farm 4\", 4:\"Farm 5\", 5:\"Energy produced (kWh)\", 6:\"Dry matter (%)\"}, inplace = True)\n",
        "df_burnt_rounded = df_burnt.round(decimals=2)\n",
        "\n",
        "# Stored quantities of corn chopping\n",
        "df_stored = pd.DataFrame([[abs(stored[i][j].x) for j in range(9)] for i in F], columns = [\"T0\", \"T1\", \"T2\", \"T3\", \"T4\", \"T5\", \"T6\", \"T7\", \"T8\"])\n",
        "df_stored.rename(index = {0:\"Farm 1\", 1:\"Farm 2\", 2:\"Farm 3\", 3:\"Farm 4\", 4:\"Farm 5\"}, inplace = True)\n",
        "df_stored_rounded = df_stored.round(decimals=2)\n",
        "\n",
        "print(\"Amount of corn chopping bought (in tons)\\n\")\n",
        "display(df_bought_rounded)\n",
        "\n",
        "print(\"\\n\\nAmount of corn chopping burnt (in tons)\\n\")\n",
        "display(df_burnt_rounded)\n",
        "\n",
        "print(\"\\n\\nAmount of corn chopping stored (in tons)\\n\")\n",
        "display(df_stored_rounded)\n",
        "\n",
        "print(f\"\\n\\nTotal profit: {m.objective_value}\")"
      ]
    },
    {
      "cell_type": "code",
      "execution_count": null,
      "metadata": {
        "colab": {
          "background_save": true
        },
        "id": "mpZ1x3-POiF9",
        "outputId": "71890acc-1ee3-4ff8-f1fc-059cd73cb485"
      },
      "outputs": [
        {
          "data": {
            "text/plain": [
              "<matplotlib.axes._subplots.AxesSubplot at 0x7f70e042b160>"
            ]
          },
          "execution_count": 7,
          "metadata": {},
          "output_type": "execute_result"
        },
        {
          "data": {
            "image/png": "[encoded data removed]",
            "text/plain": [
              "<Figure size 432x288 with 1 Axes>"
            ]
          },
          "metadata": {},
          "output_type": "display_data"
        }
      ],
      "source": [
        "# PLOTTING\n",
        "to_plot = df_bought_rounded.transpose()\n",
        "to_plot.plot.bar()"
      ]
    }
  ],
  "metadata": {
    "colab": {
      "provenance": []
    },
    "kernelspec": {
      "display_name": "Python 3",
      "name": "python3"
    },
    "language_info": {
      "name": "python"
    }
  },
  "nbformat": 4,
  "nbformat_minor": 0
}